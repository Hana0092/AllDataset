{
 "cells": [
  {
   "cell_type": "markdown",
   "id": "0a087cb1-460f-4ad5-ae5d-5148becf4ad1",
   "metadata": {},
   "source": [
    "## Assignment 2 \n"
   ]
  },
  {
   "cell_type": "markdown",
   "id": "2f3d2790-67dc-4ad0-b48c-7ff5c2e5c36f",
   "metadata": {},
   "source": [
    "**1. Biggie Size** - Given a list, write a function that changes all positive numbers in the list to \"big\".\n",
    "\n",
    "- Example: biggie_size([-1, 3, 5, -5]) returns that same list, but whose values are now [-1, \"big\", \"big\", -5]"
   ]
  },
  {
   "cell_type": "code",
   "execution_count": 38,
   "id": "59aa0fda-c143-4ed1-891a-1a203fc5af8d",
   "metadata": {},
   "outputs": [],
   "source": [
    "def biggie_size(list):\n",
    "    for x in range(len(list)):\n",
    "        if list[x] > 0:\n",
    "            list[x] = \"big\"\n",
    "    return list"
   ]
  },
  {
   "cell_type": "code",
   "execution_count": 39,
   "id": "4175def1-e17c-413c-bd42-24f75d725bed",
   "metadata": {},
   "outputs": [
    {
     "data": {
      "text/plain": [
       "[-1, 'big', 'big', -5]"
      ]
     },
     "execution_count": 39,
     "metadata": {},
     "output_type": "execute_result"
    }
   ],
   "source": [
    "biggie_size([-1, 3, 5, -5])"
   ]
  },
  {
   "cell_type": "markdown",
   "id": "8a2c7fac-1c78-428e-8b27-b668104badc7",
   "metadata": {},
   "source": [
    "**2. Count Positives** - Given a list of numbers, create a function to replace the last value with the number of positive values. (Note that zero is not considered to be a positive number).\n",
    "\n",
    "- Example: count_positives([-1,1,1,1]) changes the original list to [-1,1,1,3] and returns it\n",
    "- Example: count_positives([1,6,-4,-2,-7,-2]) changes the list to [1,6,-4,-2,-7,2] and returns it"
   ]
  },
  {
   "cell_type": "code",
   "execution_count": 43,
   "id": "60dbc30b-f7a4-487e-b810-620dfb23bc93",
   "metadata": {},
   "outputs": [],
   "source": [
    " def count_positives(list):\n",
    "    count =0\n",
    "    for x in list:\n",
    "        if x >0:\n",
    "            count=count+1\n",
    "            list[len(list)-1]=count\n",
    "    return list   "
   ]
  },
  {
   "cell_type": "code",
   "execution_count": 41,
   "id": "e2007e24-354e-4ccb-91b1-41a00e8d7487",
   "metadata": {},
   "outputs": [
    {
     "data": {
      "text/plain": [
       "[-1, 1, 1, 3]"
      ]
     },
     "execution_count": 41,
     "metadata": {},
     "output_type": "execute_result"
    }
   ],
   "source": [
    "count_positives([-1,1,1,1])"
   ]
  },
  {
   "cell_type": "code",
   "execution_count": 44,
   "id": "b837422c-5078-4ea1-a45f-df360f7b2841",
   "metadata": {},
   "outputs": [
    {
     "data": {
      "text/plain": [
       "[1, 6, -4, -2, -7, 3]"
      ]
     },
     "execution_count": 44,
     "metadata": {},
     "output_type": "execute_result"
    }
   ],
   "source": [
    "count_positives([1,6,-4,-2,-7,-2])"
   ]
  },
  {
   "cell_type": "markdown",
   "id": "d7c456a8-fb77-40f7-a366-2c3dbd9dbc64",
   "metadata": {},
   "source": [
    "**3. Sum Total** - Create a function that takes a list and returns the sum of all the values in the array.\n",
    "\n",
    "- Example: sum_total([1,2,3,4]) should return 10\n",
    "- Example: sum_total([6,3,-2]) should return 7"
   ]
  },
  {
   "cell_type": "code",
   "execution_count": 45,
   "id": "6c700c75-dbe8-4e09-9f49-46587c2c0637",
   "metadata": {},
   "outputs": [],
   "source": [
    "def sum_total(list):\n",
    "    sum = 0\n",
    "    for x in list:\n",
    "        sum = sum+ x\n",
    "    return sum  "
   ]
  },
  {
   "cell_type": "code",
   "execution_count": 46,
   "id": "f711ece9-fe79-47cf-8b4b-ad9772c779e8",
   "metadata": {},
   "outputs": [
    {
     "data": {
      "text/plain": [
       "10"
      ]
     },
     "execution_count": 46,
     "metadata": {},
     "output_type": "execute_result"
    }
   ],
   "source": [
    "sum_total([1,2,3,4])"
   ]
  },
  {
   "cell_type": "code",
   "execution_count": 47,
   "id": "3983477d-0e64-43d6-b911-6594d3dcc683",
   "metadata": {},
   "outputs": [
    {
     "data": {
      "text/plain": [
       "7"
      ]
     },
     "execution_count": 47,
     "metadata": {},
     "output_type": "execute_result"
    }
   ],
   "source": [
    "sum_total([6,3,-2]) "
   ]
  },
  {
   "cell_type": "markdown",
   "id": "f240f280-939e-4e4d-9293-92ca06469c7d",
   "metadata": {},
   "source": [
    "**4. Average**- Create a function that takes a list and returns the average of all the values.\n",
    "\n",
    "- Example: average([1,2,3,4]) should return 2.5"
   ]
  },
  {
   "cell_type": "code",
   "execution_count": 54,
   "id": "77791f54-1fc2-460f-bec0-f408cb08030e",
   "metadata": {},
   "outputs": [],
   "source": [
    "def average(list):\n",
    "    sum=0\n",
    "    for x in list:\n",
    "        sum+=x\n",
    "    return (sum/len(list))"
   ]
  },
  {
   "cell_type": "code",
   "execution_count": 55,
   "id": "ab3c8ca5-7033-4482-8d6d-268d8008cc17",
   "metadata": {},
   "outputs": [
    {
     "data": {
      "text/plain": [
       "2.5"
      ]
     },
     "execution_count": 55,
     "metadata": {},
     "output_type": "execute_result"
    }
   ],
   "source": [
    "average([1,2,3,4])"
   ]
  },
  {
   "cell_type": "markdown",
   "id": "a61d83f2-1228-4f71-8315-50b77c2c233e",
   "metadata": {},
   "source": [
    "**6. Minimum** - Create a function that takes a list of numbers and returns the minimum value in the list. (Optional) If the list is empty, have the function return False.\n",
    "\n",
    "- Example: minimum([37,2,1,-9]) should return -9\n",
    "- (Optional) Example: minimum([]) should return False"
   ]
  },
  {
   "cell_type": "code",
   "execution_count": 56,
   "id": "f8b477f3-427e-4c5d-8f83-b4ed877051a2",
   "metadata": {},
   "outputs": [],
   "source": [
    "def minimum(list):\n",
    "    if len(list)<=0:\n",
    "        return False\n",
    "    minimum =list[0]\n",
    "    for i in list:\n",
    "        if i<minimum:\n",
    "            minimum=i\n",
    "    return minimum"
   ]
  },
  {
   "cell_type": "code",
   "execution_count": 57,
   "id": "105c0eb1-9af6-46a6-b08d-b16380029b9d",
   "metadata": {},
   "outputs": [
    {
     "name": "stdout",
     "output_type": "stream",
     "text": [
      "-9\n"
     ]
    }
   ],
   "source": [
    "print(minimum([37,2,1,-9]))"
   ]
  },
  {
   "cell_type": "code",
   "execution_count": 58,
   "id": "541a06d0-266a-4952-9bf8-d82c9019c3c5",
   "metadata": {},
   "outputs": [
    {
     "name": "stdout",
     "output_type": "stream",
     "text": [
      "False\n"
     ]
    }
   ],
   "source": [
    "print(minimum([]))"
   ]
  },
  {
   "cell_type": "markdown",
   "id": "bc700347-3b99-4a28-938a-c433e4eebe5a",
   "metadata": {},
   "source": [
    "**7. Maximum** - Create a function that takes a list and returns the maximum value in the array. (Optional) If the list is empty, have the function return False.\n",
    "\n",
    "- Example: maximum([37,2,1,-9]) should return 37\n",
    "- (Optional) Example: maximum([]) should return False"
   ]
  },
  {
   "cell_type": "code",
   "execution_count": 59,
   "id": "5af1dc74-526c-4de4-a6b2-2fb2fd0a9705",
   "metadata": {},
   "outputs": [],
   "source": [
    "def maximum(list):\n",
    "    if len(list)<=0:\n",
    "        return False\n",
    "    maximum =list[0]\n",
    "    for i in list:\n",
    "        if i>maximum:\n",
    "            maximum=i\n",
    "    return maximum"
   ]
  },
  {
   "cell_type": "code",
   "execution_count": 60,
   "id": "5941a084-8e06-45c5-b9f2-162df13123d6",
   "metadata": {},
   "outputs": [
    {
     "name": "stdout",
     "output_type": "stream",
     "text": [
      "37\n"
     ]
    }
   ],
   "source": [
    "print(maximum([37,2,1,-9]))"
   ]
  },
  {
   "cell_type": "code",
   "execution_count": 61,
   "id": "703aaa26-3c9e-46c6-9ba7-57d597a7e7c5",
   "metadata": {},
   "outputs": [
    {
     "name": "stdout",
     "output_type": "stream",
     "text": [
      "False\n"
     ]
    }
   ],
   "source": [
    "print(maximum([]))"
   ]
  }
 ],
 "metadata": {
  "kernelspec": {
   "display_name": "Python 3",
   "language": "python",
   "name": "python3"
  },
  "language_info": {
   "codemirror_mode": {
    "name": "ipython",
    "version": 3
   },
   "file_extension": ".py",
   "mimetype": "text/x-python",
   "name": "python",
   "nbconvert_exporter": "python",
   "pygments_lexer": "ipython3",
   "version": "3.8.8"
  }
 },
 "nbformat": 4,
 "nbformat_minor": 5
}
