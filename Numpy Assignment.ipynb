{
 "cells": [
  {
   "cell_type": "markdown",
   "id": "af9150a3",
   "metadata": {},
   "source": [
    "# Numpy Assignment I:\n",
    "\n",
    "https://s3.us-east-1.amazonaws.com/General_V88/boomyeah2015/codingdojo/curriculum/content/chapter/1621333309__linear_algebra.png\n",
    "\n",
    "  \n",
    "  \n",
    "  \n",
    "**1.**\n",
    "-      3x + 5y =6\n",
    "-      7x - 5y =9"
   ]
  },
  {
   "cell_type": "code",
   "execution_count": 56,
   "id": "874fd97c",
   "metadata": {},
   "outputs": [],
   "source": [
    "import numpy as np #call the packg (numpy)     "
   ]
  },
  {
   "cell_type": "code",
   "execution_count": 57,
   "id": "0b21cca7",
   "metadata": {},
   "outputs": [],
   "source": [
    "A=np.array([[3,5],                  #frist row    \n",
    "            [7,-5]])                #second row \n",
    "B=np.array([[6],                    #first cul  \n",
    "            [9]])                   #second cul  "
   ]
  },
  {
   "cell_type": "code",
   "execution_count": 60,
   "id": "a8325a00",
   "metadata": {},
   "outputs": [
    {
     "data": {
      "text/plain": [
       "array([[1.5],\n",
       "       [0.3]])"
      ]
     },
     "execution_count": 60,
     "metadata": {},
     "output_type": "execute_result"
    }
   ],
   "source": [
    "X=np.linalg.inv(A).dot(B)           #For matrix inverse method\n",
    "X"
   ]
  },
  {
   "cell_type": "code",
   "execution_count": 61,
   "id": "5c666c5b",
   "metadata": {},
   "outputs": [],
   "source": [
    "x= X[0][0]\n",
    "y= X[1][0]  "
   ]
  },
  {
   "cell_type": "code",
   "execution_count": 62,
   "id": "0b099c49",
   "metadata": {},
   "outputs": [
    {
     "data": {
      "text/plain": [
       "6.0"
      ]
     },
     "execution_count": 62,
     "metadata": {},
     "output_type": "execute_result"
    }
   ],
   "source": [
    "3*x + 5*y "
   ]
  },
  {
   "cell_type": "code",
   "execution_count": 64,
   "id": "ce4353f7",
   "metadata": {},
   "outputs": [
    {
     "data": {
      "text/plain": [
       "9.0"
      ]
     },
     "execution_count": 64,
     "metadata": {},
     "output_type": "execute_result"
    }
   ],
   "source": [
    "7*x - 5*y"
   ]
  },
  {
   "cell_type": "markdown",
   "id": "d4e1e9cf",
   "metadata": {},
   "source": [
    "-------------------------------------------------------------------------------------------------------------------------\n",
    "**2.**\n",
    "- x + z + y = 6\n",
    "- y + z = -4\n",
    "- 2x + 5y - z = 27"
   ]
  },
  {
   "cell_type": "code",
   "execution_count": 73,
   "id": "0b6c84b3",
   "metadata": {},
   "outputs": [],
   "source": [
    "import numpy as np #call the packg (numpy)     "
   ]
  },
  {
   "cell_type": "code",
   "execution_count": 74,
   "id": "7afa47a7",
   "metadata": {},
   "outputs": [],
   "source": [
    "A=np.array([[1,1,1],          \n",
    "            [0,1,1],           \n",
    "            [2,5,-1]])          \n",
    "B=np.array([[6],                     \n",
    "            [-4],                    \n",
    "            [27]])                                      "
   ]
  },
  {
   "cell_type": "code",
   "execution_count": 75,
   "id": "6742ddb5",
   "metadata": {},
   "outputs": [
    {
     "data": {
      "text/plain": [
       "array([[10. ],\n",
       "       [ 0.5],\n",
       "       [-4.5]])"
      ]
     },
     "execution_count": 75,
     "metadata": {},
     "output_type": "execute_result"
    }
   ],
   "source": [
    "X=np.linalg.inv(A).dot(B)           #For matrix inverse method\n",
    "X"
   ]
  },
  {
   "cell_type": "code",
   "execution_count": 76,
   "id": "6b2024a0",
   "metadata": {},
   "outputs": [],
   "source": [
    "x = X[0][0]\n",
    "y = X[1][0]\n",
    "z = X[2][0]"
   ]
  },
  {
   "cell_type": "code",
   "execution_count": 77,
   "id": "516ace9c",
   "metadata": {},
   "outputs": [
    {
     "data": {
      "text/plain": [
       "6.000000000000002"
      ]
     },
     "execution_count": 77,
     "metadata": {},
     "output_type": "execute_result"
    }
   ],
   "source": [
    "x+z+y"
   ]
  },
  {
   "cell_type": "code",
   "execution_count": 78,
   "id": "e8dd7098",
   "metadata": {},
   "outputs": [
    {
     "data": {
      "text/plain": [
       "-4.0"
      ]
     },
     "execution_count": 78,
     "metadata": {},
     "output_type": "execute_result"
    }
   ],
   "source": [
    "y+z"
   ]
  },
  {
   "cell_type": "code",
   "execution_count": 80,
   "id": "fed2f964",
   "metadata": {},
   "outputs": [
    {
     "data": {
      "text/plain": [
       "27.000000000000004"
      ]
     },
     "execution_count": 80,
     "metadata": {},
     "output_type": "execute_result"
    }
   ],
   "source": [
    "2*x + 5*y - z"
   ]
  },
  {
   "cell_type": "markdown",
   "id": "1cd3b5f7",
   "metadata": {},
   "source": [
    "---------------------------------------------------------------------------------------------------------------------------\n",
    "**3**\n",
    "- x + y =4\n",
    "- 2x + 2y =8"
   ]
  },
  {
   "cell_type": "code",
   "execution_count": 86,
   "id": "611939ff",
   "metadata": {},
   "outputs": [],
   "source": [
    "import numpy as np #call the packg (numpy)  "
   ]
  },
  {
   "cell_type": "code",
   "execution_count": 92,
   "id": "f96dc7ae",
   "metadata": {},
   "outputs": [],
   "source": [
    "A=np.array([[1,1],                  #frist row    \n",
    "            [2,2]])                #second row \n",
    "B=np.array([[4],                    #first cul  \n",
    "            [8]])                   #second cul  "
   ]
  },
  {
   "cell_type": "code",
   "execution_count": null,
   "id": "bb13e548",
   "metadata": {},
   "outputs": [],
   "source": [
    "X=np.linalg.inv(A).dot(B)           #For matrix inverse method\n",
    "X                                   #SINGULAR MATRIX"
   ]
  }
 ],
 "metadata": {
  "kernelspec": {
   "display_name": "Python 3",
   "language": "python",
   "name": "python3"
  },
  "language_info": {
   "codemirror_mode": {
    "name": "ipython",
    "version": 3
   },
   "file_extension": ".py",
   "mimetype": "text/x-python",
   "name": "python",
   "nbconvert_exporter": "python",
   "pygments_lexer": "ipython3",
   "version": "3.8.8"
  }
 },
 "nbformat": 4,
 "nbformat_minor": 5
}
