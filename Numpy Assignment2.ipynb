{
 "cells": [
  {
   "cell_type": "markdown",
   "id": "adfb3482",
   "metadata": {},
   "source": [
    "# Numpy Assignment II:\n",
    "\n"
   ]
  },
  {
   "cell_type": "markdown",
   "id": "8b0e5085",
   "metadata": {},
   "source": [
    "- print number between 1 & 100"
   ]
  },
  {
   "cell_type": "code",
   "execution_count": null,
   "id": "c8b4f3d1",
   "metadata": {},
   "outputs": [],
   "source": [
    "for i in range(1,101):\n",
    "    print(i)"
   ]
  },
  {
   "cell_type": "markdown",
   "id": "ced32544",
   "metadata": {},
   "source": [
    "- print number between 1 & 100 divisible by 8"
   ]
  },
  {
   "cell_type": "code",
   "execution_count": null,
   "id": "157834b2",
   "metadata": {},
   "outputs": [],
   "source": [
    "for i in range(1,101):\n",
    "    if(i%8==0):\n",
    "        print(i)"
   ]
  },
  {
   "cell_type": "markdown",
   "id": "78b87b8c",
   "metadata": {},
   "source": [
    "- use awhile LOOP to find the first 20 numbers divisble by 5"
   ]
  },
  {
   "cell_type": "code",
   "execution_count": 8,
   "id": "704ff772",
   "metadata": {},
   "outputs": [],
   "source": [
    "list1=[]\n",
    "count=1\n",
    "while(len(list1)<20):\n",
    "    if(count%5==0):\n",
    "        list1.append(count)\n",
    "    else:\n",
    "        pass\n",
    "    count+=1"
   ]
  },
  {
   "cell_type": "code",
   "execution_count": null,
   "id": "632fc853",
   "metadata": {},
   "outputs": [],
   "source": [
    "list1"
   ]
  },
  {
   "cell_type": "markdown",
   "id": "49d7367e",
   "metadata": {},
   "source": [
    "- here is example function that adds two numbers\n",
    "- def simple_adding_function(a,b):\n",
    "-   return a + b"
   ]
  },
  {
   "cell_type": "code",
   "execution_count": 24,
   "id": "4f8ebc19",
   "metadata": {},
   "outputs": [],
   "source": [
    "def simple_adding_function(a,b):\n",
    "    return a + b"
   ]
  },
  {
   "cell_type": "code",
   "execution_count": 25,
   "id": "b8fefc14",
   "metadata": {},
   "outputs": [
    {
     "name": "stdout",
     "output_type": "stream",
     "text": [
      "9\n",
      "9\n"
     ]
    }
   ],
   "source": [
    "print(simple_adding_function(5,4))\n",
    "print(simple_adding_function(4,5))"
   ]
  },
  {
   "cell_type": "markdown",
   "id": "e0134051",
   "metadata": {},
   "source": [
    "- Create a function that evaluates if a number is prime\n",
    "(you can not use a list of known primes). Only allow values between 0 and 100.\n"
   ]
  },
  {
   "cell_type": "code",
   "execution_count": 37,
   "id": "76ca2d28",
   "metadata": {},
   "outputs": [],
   "source": [
    "def prime(a):\n",
    "    for i in range(2,a):\n",
    "        if((a % (i) == 0) & (a != (i))):\n",
    "            return(a,\" is not Prime\")\n",
    "        elif (a>100):\n",
    "            return(\"only allow values between 0 & 100\")\n",
    "        else:\n",
    "            return(a,\" is a prime number\")"
   ]
  },
  {
   "cell_type": "code",
   "execution_count": 38,
   "id": "47f23151",
   "metadata": {},
   "outputs": [
    {
     "data": {
      "text/plain": [
       "'only allow values between 0 & 100'"
      ]
     },
     "execution_count": 38,
     "metadata": {},
     "output_type": "execute_result"
    }
   ],
   "source": [
    "prime(101) "
   ]
  },
  {
   "cell_type": "code",
   "execution_count": 39,
   "id": "4a8bdf85",
   "metadata": {},
   "outputs": [
    {
     "data": {
      "text/plain": [
       "(13, ' is a prime number')"
      ]
     },
     "execution_count": 39,
     "metadata": {},
     "output_type": "execute_result"
    }
   ],
   "source": [
    "prime(13) "
   ]
  }
 ],
 "metadata": {
  "kernelspec": {
   "display_name": "Python 3",
   "language": "python",
   "name": "python3"
  },
  "language_info": {
   "codemirror_mode": {
    "name": "ipython",
    "version": 3
   },
   "file_extension": ".py",
   "mimetype": "text/x-python",
   "name": "python",
   "nbconvert_exporter": "python",
   "pygments_lexer": "ipython3",
   "version": "3.8.8"
  }
 },
 "nbformat": 4,
 "nbformat_minor": 5
}
