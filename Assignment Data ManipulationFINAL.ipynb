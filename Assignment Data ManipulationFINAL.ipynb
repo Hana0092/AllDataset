{
 "cells": [
  {
   "cell_type": "code",
   "execution_count": 129,
   "id": "a3df4f7e",
   "metadata": {},
   "outputs": [],
   "source": [
    "import pandas as pd\n",
    "import seaborn as sns\n",
    "import numpy as np\n",
    "import matplotlib.pyplot as plt"
   ]
  },
  {
   "cell_type": "markdown",
   "id": "bf866beb",
   "metadata": {},
   "source": [
    "# Assignment Data Manipulation:\n",
    "\n",
    "Download the dataset below for burrito reviews in California and complete the following tasks:\n",
    "\n",
    "**Create a histogram or bar chart of what the distribution of values looks like before handling NaN values and after. Each plot must have the following\n",
    "Axis Labels\n",
    "Title**\n",
    "\n",
    "- Determine how many missing values are present in each column\n",
    "- Determine the total amount of missing values\n",
    "- Choose a column and replace `NaN` values with the mean\n",
    "- Choose a column and replace `NaN` values with the median\n",
    "- Choose a column and replace `NaN` values with the mode\n",
    "- Choose a column and replace `NaN` values with your own value\n",
    "-  a column and use backward filling\n",
    "- Choose a column and use forwards filling\n"
   ]
  },
  {
   "cell_type": "code",
   "execution_count": 130,
   "id": "2de94d11",
   "metadata": {},
   "outputs": [],
   "source": [
    "df = pd.read_csv('burritos.csv')"
   ]
  },
  {
   "cell_type": "code",
   "execution_count": 131,
   "id": "26a75b59",
   "metadata": {},
   "outputs": [],
   "source": [
    "#df.head()"
   ]
  },
  {
   "cell_type": "code",
   "execution_count": 132,
   "id": "6b7053ab",
   "metadata": {},
   "outputs": [
    {
     "data": {
      "text/html": [
       "<div>\n",
       "<style scoped>\n",
       "    .dataframe tbody tr th:only-of-type {\n",
       "        vertical-align: middle;\n",
       "    }\n",
       "\n",
       "    .dataframe tbody tr th {\n",
       "        vertical-align: top;\n",
       "    }\n",
       "\n",
       "    .dataframe thead th {\n",
       "        text-align: right;\n",
       "    }\n",
       "</style>\n",
       "<table border=\"1\" class=\"dataframe\">\n",
       "  <thead>\n",
       "    <tr style=\"text-align: right;\">\n",
       "      <th></th>\n",
       "      <th>Location</th>\n",
       "      <th>Burrito</th>\n",
       "      <th>Date</th>\n",
       "      <th>Neighborhood</th>\n",
       "      <th>Address</th>\n",
       "      <th>URL</th>\n",
       "      <th>Yelp</th>\n",
       "      <th>Google</th>\n",
       "      <th>Chips</th>\n",
       "      <th>Cost</th>\n",
       "      <th>...</th>\n",
       "      <th>Nopales</th>\n",
       "      <th>Lobster</th>\n",
       "      <th>Queso</th>\n",
       "      <th>Egg</th>\n",
       "      <th>Mushroom</th>\n",
       "      <th>Bacon</th>\n",
       "      <th>Sushi</th>\n",
       "      <th>Avocado</th>\n",
       "      <th>Corn</th>\n",
       "      <th>Zucchini</th>\n",
       "    </tr>\n",
       "  </thead>\n",
       "  <tbody>\n",
       "    <tr>\n",
       "      <th>418</th>\n",
       "      <td>Valentine's Mexican Food</td>\n",
       "      <td>Al Pastor</td>\n",
       "      <td>8/27/2019</td>\n",
       "      <td>NaN</td>\n",
       "      <td>NaN</td>\n",
       "      <td>NaN</td>\n",
       "      <td>NaN</td>\n",
       "      <td>NaN</td>\n",
       "      <td>NaN</td>\n",
       "      <td>6.0</td>\n",
       "      <td>...</td>\n",
       "      <td>NaN</td>\n",
       "      <td>NaN</td>\n",
       "      <td>NaN</td>\n",
       "      <td>NaN</td>\n",
       "      <td>NaN</td>\n",
       "      <td>NaN</td>\n",
       "      <td>NaN</td>\n",
       "      <td>NaN</td>\n",
       "      <td>NaN</td>\n",
       "      <td>NaN</td>\n",
       "    </tr>\n",
       "    <tr>\n",
       "      <th>419</th>\n",
       "      <td>Valentine's Mexican Food</td>\n",
       "      <td>Chile Relleno</td>\n",
       "      <td>8/27/2019</td>\n",
       "      <td>NaN</td>\n",
       "      <td>NaN</td>\n",
       "      <td>NaN</td>\n",
       "      <td>NaN</td>\n",
       "      <td>NaN</td>\n",
       "      <td>NaN</td>\n",
       "      <td>6.0</td>\n",
       "      <td>...</td>\n",
       "      <td>NaN</td>\n",
       "      <td>NaN</td>\n",
       "      <td>NaN</td>\n",
       "      <td>NaN</td>\n",
       "      <td>NaN</td>\n",
       "      <td>NaN</td>\n",
       "      <td>NaN</td>\n",
       "      <td>NaN</td>\n",
       "      <td>NaN</td>\n",
       "      <td>NaN</td>\n",
       "    </tr>\n",
       "    <tr>\n",
       "      <th>420</th>\n",
       "      <td>Valentine's Mexican Food</td>\n",
       "      <td>California</td>\n",
       "      <td>8/27/2019</td>\n",
       "      <td>NaN</td>\n",
       "      <td>NaN</td>\n",
       "      <td>NaN</td>\n",
       "      <td>NaN</td>\n",
       "      <td>NaN</td>\n",
       "      <td>NaN</td>\n",
       "      <td>7.9</td>\n",
       "      <td>...</td>\n",
       "      <td>NaN</td>\n",
       "      <td>NaN</td>\n",
       "      <td>NaN</td>\n",
       "      <td>NaN</td>\n",
       "      <td>NaN</td>\n",
       "      <td>NaN</td>\n",
       "      <td>NaN</td>\n",
       "      <td>NaN</td>\n",
       "      <td>NaN</td>\n",
       "      <td>NaN</td>\n",
       "    </tr>\n",
       "    <tr>\n",
       "      <th>421</th>\n",
       "      <td>Valentine's Mexican Food</td>\n",
       "      <td>Shrimp</td>\n",
       "      <td>8/27/2019</td>\n",
       "      <td>NaN</td>\n",
       "      <td>NaN</td>\n",
       "      <td>NaN</td>\n",
       "      <td>NaN</td>\n",
       "      <td>NaN</td>\n",
       "      <td>NaN</td>\n",
       "      <td>7.9</td>\n",
       "      <td>...</td>\n",
       "      <td>NaN</td>\n",
       "      <td>NaN</td>\n",
       "      <td>NaN</td>\n",
       "      <td>NaN</td>\n",
       "      <td>NaN</td>\n",
       "      <td>NaN</td>\n",
       "      <td>NaN</td>\n",
       "      <td>NaN</td>\n",
       "      <td>NaN</td>\n",
       "      <td>NaN</td>\n",
       "    </tr>\n",
       "    <tr>\n",
       "      <th>422</th>\n",
       "      <td>Valentine's Mexican Food</td>\n",
       "      <td>Pollo Asado</td>\n",
       "      <td>8/27/2019</td>\n",
       "      <td>NaN</td>\n",
       "      <td>NaN</td>\n",
       "      <td>NaN</td>\n",
       "      <td>NaN</td>\n",
       "      <td>NaN</td>\n",
       "      <td>NaN</td>\n",
       "      <td>5.5</td>\n",
       "      <td>...</td>\n",
       "      <td>NaN</td>\n",
       "      <td>NaN</td>\n",
       "      <td>NaN</td>\n",
       "      <td>NaN</td>\n",
       "      <td>NaN</td>\n",
       "      <td>NaN</td>\n",
       "      <td>NaN</td>\n",
       "      <td>NaN</td>\n",
       "      <td>NaN</td>\n",
       "      <td>NaN</td>\n",
       "    </tr>\n",
       "  </tbody>\n",
       "</table>\n",
       "<p>5 rows × 66 columns</p>\n",
       "</div>"
      ],
      "text/plain": [
       "                     Location        Burrito       Date Neighborhood Address  \\\n",
       "418  Valentine's Mexican Food      Al Pastor  8/27/2019          NaN     NaN   \n",
       "419  Valentine's Mexican Food  Chile Relleno  8/27/2019          NaN     NaN   \n",
       "420  Valentine's Mexican Food     California  8/27/2019          NaN     NaN   \n",
       "421  Valentine's Mexican Food         Shrimp  8/27/2019          NaN     NaN   \n",
       "422  Valentine's Mexican Food    Pollo Asado  8/27/2019          NaN     NaN   \n",
       "\n",
       "     URL  Yelp  Google Chips  Cost  ...  Nopales  Lobster  Queso  Egg  \\\n",
       "418  NaN   NaN     NaN   NaN   6.0  ...      NaN      NaN    NaN  NaN   \n",
       "419  NaN   NaN     NaN   NaN   6.0  ...      NaN      NaN    NaN  NaN   \n",
       "420  NaN   NaN     NaN   NaN   7.9  ...      NaN      NaN    NaN  NaN   \n",
       "421  NaN   NaN     NaN   NaN   7.9  ...      NaN      NaN    NaN  NaN   \n",
       "422  NaN   NaN     NaN   NaN   5.5  ...      NaN      NaN    NaN  NaN   \n",
       "\n",
       "     Mushroom  Bacon  Sushi  Avocado  Corn  Zucchini  \n",
       "418       NaN    NaN    NaN      NaN   NaN       NaN  \n",
       "419       NaN    NaN    NaN      NaN   NaN       NaN  \n",
       "420       NaN    NaN    NaN      NaN   NaN       NaN  \n",
       "421       NaN    NaN    NaN      NaN   NaN       NaN  \n",
       "422       NaN    NaN    NaN      NaN   NaN       NaN  \n",
       "\n",
       "[5 rows x 66 columns]"
      ]
     },
     "execution_count": 132,
     "metadata": {},
     "output_type": "execute_result"
    }
   ],
   "source": [
    "df.tail()"
   ]
  },
  {
   "cell_type": "markdown",
   "id": "08c3c589",
   "metadata": {},
   "source": [
    "# look for missing values"
   ]
  },
  {
   "cell_type": "code",
   "execution_count": 133,
   "id": "c312f719",
   "metadata": {},
   "outputs": [
    {
     "name": "stdout",
     "output_type": "stream",
     "text": [
      "<class 'pandas.core.frame.DataFrame'>\n",
      "RangeIndex: 423 entries, 0 to 422\n",
      "Data columns (total 66 columns):\n",
      " #   Column          Non-Null Count  Dtype  \n",
      "---  ------          --------------  -----  \n",
      " 0   Location        423 non-null    object \n",
      " 1   Burrito         423 non-null    object \n",
      " 2   Date            423 non-null    object \n",
      " 3   Neighborhood    92 non-null     object \n",
      " 4   Address         88 non-null     object \n",
      " 5   URL             87 non-null     object \n",
      " 6   Yelp            87 non-null     float64\n",
      " 7   Google          87 non-null     float64\n",
      " 8   Chips           26 non-null     object \n",
      " 9   Cost            416 non-null    float64\n",
      " 10  Hunger          420 non-null    float64\n",
      " 11  Mass (g)        22 non-null     float64\n",
      " 12  Density (g/mL)  22 non-null     float64\n",
      " 13  Length          284 non-null    float64\n",
      " 14  Circum          282 non-null    float64\n",
      " 15  Volume          282 non-null    float64\n",
      " 16  Tortilla        423 non-null    float64\n",
      " 17  Temp            403 non-null    float64\n",
      " 18  Meat            409 non-null    float64\n",
      " 19  Fillings        420 non-null    float64\n",
      " 20  Meat:filling    414 non-null    float64\n",
      " 21  Uniformity      421 non-null    float64\n",
      " 22  Salsa           398 non-null    float64\n",
      " 23  Synergy         421 non-null    float64\n",
      " 24  Wrap            420 non-null    float64\n",
      " 25  overall         421 non-null    float64\n",
      " 26  Rec             233 non-null    object \n",
      " 27  Reviewer        422 non-null    object \n",
      " 28  Notes           146 non-null    object \n",
      " 29  Unreliable      33 non-null     object \n",
      " 30  NonSD           7 non-null      object \n",
      " 31  Beef            180 non-null    object \n",
      " 32  Pico            159 non-null    object \n",
      " 33  Guac            155 non-null    object \n",
      " 34  Cheese          160 non-null    object \n",
      " 35  Fries           128 non-null    object \n",
      " 36  Sour cream      92 non-null     object \n",
      " 37  Pork            51 non-null     object \n",
      " 38  Chicken         21 non-null     object \n",
      " 39  Shrimp          21 non-null     object \n",
      " 40  Fish            6 non-null      object \n",
      " 41  Rice            36 non-null     object \n",
      " 42  Beans           35 non-null     object \n",
      " 43  Lettuce         11 non-null     object \n",
      " 44  Tomato          7 non-null      object \n",
      " 45  Bell peper      7 non-null      object \n",
      " 46  Carrots         1 non-null      object \n",
      " 47  Cabbage         8 non-null      object \n",
      " 48  Sauce           38 non-null     object \n",
      " 49  Salsa.1         7 non-null      object \n",
      " 50  Cilantro        15 non-null     object \n",
      " 51  Onion           17 non-null     object \n",
      " 52  Taquito         4 non-null      object \n",
      " 53  Pineapple       7 non-null      object \n",
      " 54  Ham             2 non-null      object \n",
      " 55  Chile relleno   4 non-null      object \n",
      " 56  Nopales         4 non-null      object \n",
      " 57  Lobster         1 non-null      object \n",
      " 58  Queso           0 non-null      float64\n",
      " 59  Egg             5 non-null      object \n",
      " 60  Mushroom        3 non-null      object \n",
      " 61  Bacon           3 non-null      object \n",
      " 62  Sushi           2 non-null      object \n",
      " 63  Avocado         13 non-null     object \n",
      " 64  Corn            3 non-null      object \n",
      " 65  Zucchini        1 non-null      object \n",
      "dtypes: float64(20), object(46)\n",
      "memory usage: 218.2+ KB\n"
     ]
    }
   ],
   "source": [
    "df.info()"
   ]
  },
  {
   "cell_type": "markdown",
   "id": "8c54e0a1",
   "metadata": {},
   "source": [
    "                                       ******************\n",
    "- Determine how many missing values are present in each column"
   ]
  },
  {
   "cell_type": "code",
   "execution_count": 167,
   "id": "31b83813",
   "metadata": {},
   "outputs": [
    {
     "name": "stdout",
     "output_type": "stream",
     "text": [
      "Location            0\n",
      "Burrito             0\n",
      "Date                0\n",
      "Neighborhood      331\n",
      "Address           335\n",
      "URL               336\n",
      "Yelp              336\n",
      "Google              0\n",
      "Chips             397\n",
      "Cost                0\n",
      "Hunger              3\n",
      "Mass (g)          401\n",
      "Density (g/mL)    401\n",
      "Length            139\n",
      "Circum            141\n",
      "Volume            141\n",
      "Tortilla            0\n",
      "Temp               20\n",
      "Meat               14\n",
      "Fillings            0\n",
      "Meat:filling        9\n",
      "Uniformity          2\n",
      "Salsa              25\n",
      "Synergy             2\n",
      "Wrap                3\n",
      "overall             2\n",
      "Rec               190\n",
      "Reviewer            1\n",
      "Notes             277\n",
      "Unreliable        390\n",
      "NonSD             416\n",
      "Beef              243\n",
      "Pico              264\n",
      "Guac              268\n",
      "Cheese            263\n",
      "Fries             295\n",
      "Sour cream        331\n",
      "Pork              372\n",
      "Chicken           402\n",
      "Shrimp            402\n",
      "Fish              417\n",
      "Rice              387\n",
      "Beans             388\n",
      "Lettuce           412\n",
      "Tomato            416\n",
      "Bell peper        416\n",
      "Carrots           422\n",
      "Cabbage           415\n",
      "Sauce             385\n",
      "Salsa.1           416\n",
      "Cilantro          408\n",
      "Onion             406\n",
      "Taquito           419\n",
      "Pineapple         416\n",
      "Ham               421\n",
      "Chile relleno     419\n",
      "Nopales             0\n",
      "Lobster           422\n",
      "Queso             423\n",
      "Egg               418\n",
      "Mushroom          420\n",
      "Bacon             420\n",
      "Sushi             421\n",
      "Avocado           410\n",
      "Corn              420\n",
      "Zucchini          422\n"
     ]
    }
   ],
   "source": [
    "# How many missing values in each column\n",
    "print(df.isnull().sum().to_string())    #I used .to_string() to show all missing values in column\n"
   ]
  },
  {
   "cell_type": "code",
   "execution_count": 135,
   "id": "9d48d373",
   "metadata": {},
   "outputs": [
    {
     "data": {
      "text/plain": [
       "(423, 66)"
      ]
     },
     "execution_count": 135,
     "metadata": {},
     "output_type": "execute_result"
    }
   ],
   "source": [
    "df.shape"
   ]
  },
  {
   "cell_type": "markdown",
   "id": "71864d84",
   "metadata": {},
   "source": [
    "                                        *******************\n",
    "- Determine the total amount of missing values"
   ]
  },
  {
   "cell_type": "code",
   "execution_count": 136,
   "id": "a777416d",
   "metadata": {},
   "outputs": [
    {
     "data": {
      "text/plain": [
       "18256"
      ]
     },
     "execution_count": 136,
     "metadata": {},
     "output_type": "execute_result"
    }
   ],
   "source": [
    "#the total number of missing values is 18256\n",
    "df.isnull().sum().sum()"
   ]
  },
  {
   "cell_type": "markdown",
   "id": "1e26ef77",
   "metadata": {},
   "source": [
    "                                           **************\n",
    "**Create a histogram or bar chart of what the distribution of values looks like before handling NaN values and after. Each plot must have the following\n",
    "Axis Labels\n",
    "Title**"
   ]
  },
  {
   "cell_type": "code",
   "execution_count": 171,
   "id": "271071cc",
   "metadata": {},
   "outputs": [
    {
     "data": {
      "image/png": "[encoded data removed]",
      "text/plain": [
       "<Figure size 720x1080 with 1 Axes>"
      ]
     },
     "metadata": {
      "needs_background": "light"
     },
     "output_type": "display_data"
    }
   ],
   "source": [
    "plt.figure(figsize=(10,15))\n",
    "df.isnull().sum().sort_values().plot(kind=\"barh\", title=\"Missing Values \", color=\"#CD6889\");"
   ]
  },
  {
   "cell_type": "markdown",
   "id": "051a1c46",
   "metadata": {},
   "source": [
    "                                           ******************\n",
    "- Choose a column and replace `NaN` values with the mean\n"
   ]
  },
  {
   "cell_type": "code",
   "execution_count": 138,
   "id": "6e9d201b",
   "metadata": {},
   "outputs": [
    {
     "data": {
      "text/plain": [
       "0      6.49\n",
       "1      5.45\n",
       "2      4.85\n",
       "3      5.25\n",
       "4      6.59\n",
       "       ... \n",
       "418    6.00\n",
       "419    6.00\n",
       "420    7.90\n",
       "421    7.90\n",
       "422    5.50\n",
       "Name: Cost, Length: 423, dtype: float64"
      ]
     },
     "execution_count": 138,
     "metadata": {},
     "output_type": "execute_result"
    }
   ],
   "source": [
    "df[\"Cost\"]"
   ]
  },
  {
   "cell_type": "code",
   "execution_count": 172,
   "id": "b8ff208d",
   "metadata": {},
   "outputs": [
    {
     "data": {
      "image/png": "[encoded data removed]",
      "text/plain": [
       "<Figure size 432x288 with 1 Axes>"
      ]
     },
     "metadata": {
      "needs_background": "light"
     },
     "output_type": "display_data"
    }
   ],
   "source": [
    "# Plot a histogram with bins=10 to see distribution of data\n",
    "df[\"Cost\"].plot(kind=\"hist\", bins=10, title=\"Histogram of Column (Cost) \", color=\"#CD6889\");"
   ]
  },
  {
   "cell_type": "code",
   "execution_count": 140,
   "id": "3e15ed1c",
   "metadata": {},
   "outputs": [
    {
     "data": {
      "text/plain": [
       "2.2609474229610758"
      ]
     },
     "execution_count": 140,
     "metadata": {},
     "output_type": "execute_result"
    }
   ],
   "source": [
    "# Calculate Variance before handling NaN values\n",
    "df[\"Cost\"].var()"
   ]
  },
  {
   "cell_type": "code",
   "execution_count": 141,
   "id": "0976c9e7",
   "metadata": {},
   "outputs": [
    {
     "data": {
      "text/plain": [
       "7"
      ]
     },
     "execution_count": 141,
     "metadata": {},
     "output_type": "execute_result"
    }
   ],
   "source": [
    "# Calculate the mean\n",
    "col4_mean = round(df[\"Cost\"].mean())\n",
    "col4_mean"
   ]
  },
  {
   "cell_type": "code",
   "execution_count": 142,
   "id": "0dbf8bcb",
   "metadata": {},
   "outputs": [
    {
     "data": {
      "text/plain": [
       "7"
      ]
     },
     "execution_count": 142,
     "metadata": {},
     "output_type": "execute_result"
    }
   ],
   "source": [
    "df[\"Cost\"].isnull().sum()"
   ]
  },
  {
   "cell_type": "code",
   "execution_count": 143,
   "id": "173bfddc",
   "metadata": {},
   "outputs": [
    {
     "data": {
      "text/plain": [
       "0"
      ]
     },
     "execution_count": 143,
     "metadata": {},
     "output_type": "execute_result"
    }
   ],
   "source": [
    "# Replace NaN values with the mean\n",
    "df[\"Cost\"] = df[\"Cost\"].fillna(col4_mean)\n",
    "df[\"Cost\"].isnull().sum()"
   ]
  },
  {
   "cell_type": "code",
   "execution_count": 173,
   "id": "e03e814b",
   "metadata": {},
   "outputs": [
    {
     "data": {
      "image/png": "[encoded data removed]",
      "text/plain": [
       "<Figure size 432x288 with 1 Axes>"
      ]
     },
     "metadata": {
      "needs_background": "light"
     },
     "output_type": "display_data"
    }
   ],
   "source": [
    "# Plot a histogram with bins=10 to see distribution of data\n",
    "df[\"Cost\"].plot(kind=\"hist\", bins=10, title=\"Histogram of Column (Cost) with Handled NaN Values\", color=\"#CD6889\");"
   ]
  },
  {
   "cell_type": "code",
   "execution_count": 145,
   "id": "2a1b374c",
   "metadata": {},
   "outputs": [
    {
     "data": {
      "text/plain": [
       "2.2235129385006696"
      ]
     },
     "execution_count": 145,
     "metadata": {},
     "output_type": "execute_result"
    }
   ],
   "source": [
    "# Variance after handling NaN values\n",
    "df[\"Cost\"].var()"
   ]
  },
  {
   "cell_type": "markdown",
   "id": "7cae3011",
   "metadata": {},
   "source": [
    "                                           ******************\n",
    "\n",
    "- Choose a column and replace `NaN` values with the median\n",
    "\n"
   ]
  },
  {
   "cell_type": "code",
   "execution_count": 174,
   "id": "b3ff5c59",
   "metadata": {},
   "outputs": [
    {
     "data": {
      "image/png": "[encoded data removed]",
      "text/plain": [
       "<Figure size 432x288 with 1 Axes>"
      ]
     },
     "metadata": {
      "needs_background": "light"
     },
     "output_type": "display_data"
    }
   ],
   "source": [
    "# Plot a histogram with bins=10 to see distribution of data\n",
    "df[\"Google\"].plot(kind=\"hist\", bins=10, title=\"Histogram of Column (Google) without Handled NaN Values\", color=\"#CD6889\");"
   ]
  },
  {
   "cell_type": "code",
   "execution_count": 147,
   "id": "b396355f",
   "metadata": {},
   "outputs": [
    {
     "data": {
      "text/plain": [
       "4.167816091954022"
      ]
     },
     "execution_count": 147,
     "metadata": {},
     "output_type": "execute_result"
    }
   ],
   "source": [
    "# the result is meanless for our data points since the accepted value are only --> 1,2,3 \n",
    "col9_mean = (df[\"Google\"].mean())\n",
    "col9_mean"
   ]
  },
  {
   "cell_type": "code",
   "execution_count": 148,
   "id": "53ed9789",
   "metadata": {},
   "outputs": [
    {
     "data": {
      "text/plain": [
       "4.1"
      ]
     },
     "execution_count": 148,
     "metadata": {},
     "output_type": "execute_result"
    }
   ],
   "source": [
    "# Calculate mode\n",
    "col9_mode = df[\"Google\"].mode()[0]\n",
    "col9_mode"
   ]
  },
  {
   "cell_type": "code",
   "execution_count": 149,
   "id": "f80ac541",
   "metadata": {},
   "outputs": [],
   "source": [
    "# Replace NaN values with mode\n",
    "df[\"Google\"] = df[\"Google\"].replace(np.NaN, col9_mode)"
   ]
  },
  {
   "cell_type": "code",
   "execution_count": 175,
   "id": "6116c1d3",
   "metadata": {},
   "outputs": [
    {
     "data": {
      "image/png": "[encoded data removed]",
      "text/plain": [
       "<Figure size 432x288 with 1 Axes>"
      ]
     },
     "metadata": {
      "needs_background": "light"
     },
     "output_type": "display_data"
    }
   ],
   "source": [
    "# Plot a histogram with bins=10 to see distribution of data\n",
    "df[\"Google\"].plot(kind=\"hist\", bins=10, title=\"Histogram of Column (Google) with Handled NaN Values\", color=\"#CD6889\");"
   ]
  },
  {
   "cell_type": "markdown",
   "id": "766ce577",
   "metadata": {},
   "source": [
    "                                           ******************\n",
    "\n",
    "- Choose a column and replace `NaN` values with the mode\n"
   ]
  },
  {
   "cell_type": "code",
   "execution_count": 176,
   "id": "da815f59",
   "metadata": {},
   "outputs": [
    {
     "data": {
      "image/png": "[encoded data removed]",
      "text/plain": [
       "<Figure size 432x288 with 1 Axes>"
      ]
     },
     "metadata": {
      "needs_background": "light"
     },
     "output_type": "display_data"
    }
   ],
   "source": [
    "# Plot a histogram with bins=10 to see distribution of data\n",
    "df[\"Fillings\"].plot(kind=\"hist\", bins=10, title=\"Histogram of (Fillings) without Handled NaN Values\", color=\"#CD6889\");"
   ]
  },
  {
   "cell_type": "code",
   "execution_count": 152,
   "id": "01e8d5cf",
   "metadata": {},
   "outputs": [
    {
     "data": {
      "text/plain": [
       "4"
      ]
     },
     "execution_count": 152,
     "metadata": {},
     "output_type": "execute_result"
    }
   ],
   "source": [
    "col21_median = round(df[\"Fillings\"].median())\n",
    "col21_median"
   ]
  },
  {
   "cell_type": "code",
   "execution_count": 153,
   "id": "aa90c976",
   "metadata": {},
   "outputs": [],
   "source": [
    "# Replace NaN values with median\n",
    "df[\"Fillings\"] = df[\"Fillings\"].replace(np.NaN, col21_median)"
   ]
  },
  {
   "cell_type": "code",
   "execution_count": 177,
   "id": "6f736237",
   "metadata": {},
   "outputs": [
    {
     "data": {
      "image/png": "[encoded data removed]",
      "text/plain": [
       "<Figure size 432x288 with 1 Axes>"
      ]
     },
     "metadata": {
      "needs_background": "light"
     },
     "output_type": "display_data"
    }
   ],
   "source": [
    "# Plot a histogram with bins=20 to see distribution of data\n",
    "df[\"Fillings\"].plot(kind=\"hist\", bins=20, title=\"Histogram of (Fillings) with Handled NaN Values\", color=\"#CD6889\");"
   ]
  },
  {
   "cell_type": "markdown",
   "id": "fd886ff0",
   "metadata": {},
   "source": [
    "                                           ******************\n",
    "\n",
    "- Choose a column and replace `NaN` values with your own value"
   ]
  },
  {
   "cell_type": "code",
   "execution_count": 155,
   "id": "2de01c82",
   "metadata": {},
   "outputs": [
    {
     "data": {
      "text/html": [
       "<div>\n",
       "<style scoped>\n",
       "    .dataframe tbody tr th:only-of-type {\n",
       "        vertical-align: middle;\n",
       "    }\n",
       "\n",
       "    .dataframe tbody tr th {\n",
       "        vertical-align: top;\n",
       "    }\n",
       "\n",
       "    .dataframe thead th {\n",
       "        text-align: right;\n",
       "    }\n",
       "</style>\n",
       "<table border=\"1\" class=\"dataframe\">\n",
       "  <thead>\n",
       "    <tr style=\"text-align: right;\">\n",
       "      <th></th>\n",
       "      <th>Location</th>\n",
       "      <th>Burrito</th>\n",
       "      <th>Date</th>\n",
       "      <th>Neighborhood</th>\n",
       "      <th>Address</th>\n",
       "      <th>URL</th>\n",
       "      <th>Yelp</th>\n",
       "      <th>Google</th>\n",
       "      <th>Chips</th>\n",
       "      <th>Cost</th>\n",
       "      <th>...</th>\n",
       "      <th>Nopales</th>\n",
       "      <th>Lobster</th>\n",
       "      <th>Queso</th>\n",
       "      <th>Egg</th>\n",
       "      <th>Mushroom</th>\n",
       "      <th>Bacon</th>\n",
       "      <th>Sushi</th>\n",
       "      <th>Avocado</th>\n",
       "      <th>Corn</th>\n",
       "      <th>Zucchini</th>\n",
       "    </tr>\n",
       "  </thead>\n",
       "  <tbody>\n",
       "    <tr>\n",
       "      <th>0</th>\n",
       "      <td>Donato's taco shop</td>\n",
       "      <td>California</td>\n",
       "      <td>1/18/2016</td>\n",
       "      <td>Miramar</td>\n",
       "      <td>6780 Miramar Rd</td>\n",
       "      <td>http://donatostacoshop.net/</td>\n",
       "      <td>3.5</td>\n",
       "      <td>4.2</td>\n",
       "      <td>NaN</td>\n",
       "      <td>6.49</td>\n",
       "      <td>...</td>\n",
       "      <td>Hi</td>\n",
       "      <td>NaN</td>\n",
       "      <td>NaN</td>\n",
       "      <td>NaN</td>\n",
       "      <td>NaN</td>\n",
       "      <td>NaN</td>\n",
       "      <td>NaN</td>\n",
       "      <td>NaN</td>\n",
       "      <td>NaN</td>\n",
       "      <td>NaN</td>\n",
       "    </tr>\n",
       "    <tr>\n",
       "      <th>1</th>\n",
       "      <td>Oscar's Mexican food</td>\n",
       "      <td>California</td>\n",
       "      <td>1/24/2016</td>\n",
       "      <td>San Marcos</td>\n",
       "      <td>225 S Rancho Santa Fe Rd</td>\n",
       "      <td>http://www.yelp.com/biz/oscars-mexican-food-sa...</td>\n",
       "      <td>3.5</td>\n",
       "      <td>3.3</td>\n",
       "      <td>NaN</td>\n",
       "      <td>5.45</td>\n",
       "      <td>...</td>\n",
       "      <td>Hi</td>\n",
       "      <td>NaN</td>\n",
       "      <td>NaN</td>\n",
       "      <td>NaN</td>\n",
       "      <td>NaN</td>\n",
       "      <td>NaN</td>\n",
       "      <td>NaN</td>\n",
       "      <td>NaN</td>\n",
       "      <td>NaN</td>\n",
       "      <td>NaN</td>\n",
       "    </tr>\n",
       "    <tr>\n",
       "      <th>2</th>\n",
       "      <td>Oscar's Mexican food</td>\n",
       "      <td>Carnitas</td>\n",
       "      <td>1/24/2016</td>\n",
       "      <td>NaN</td>\n",
       "      <td>NaN</td>\n",
       "      <td>NaN</td>\n",
       "      <td>NaN</td>\n",
       "      <td>4.1</td>\n",
       "      <td>NaN</td>\n",
       "      <td>4.85</td>\n",
       "      <td>...</td>\n",
       "      <td>Hi</td>\n",
       "      <td>NaN</td>\n",
       "      <td>NaN</td>\n",
       "      <td>NaN</td>\n",
       "      <td>NaN</td>\n",
       "      <td>NaN</td>\n",
       "      <td>NaN</td>\n",
       "      <td>NaN</td>\n",
       "      <td>NaN</td>\n",
       "      <td>NaN</td>\n",
       "    </tr>\n",
       "    <tr>\n",
       "      <th>3</th>\n",
       "      <td>Oscar's Mexican food</td>\n",
       "      <td>Carne asada</td>\n",
       "      <td>1/24/2016</td>\n",
       "      <td>NaN</td>\n",
       "      <td>NaN</td>\n",
       "      <td>NaN</td>\n",
       "      <td>NaN</td>\n",
       "      <td>4.1</td>\n",
       "      <td>NaN</td>\n",
       "      <td>5.25</td>\n",
       "      <td>...</td>\n",
       "      <td>Hi</td>\n",
       "      <td>NaN</td>\n",
       "      <td>NaN</td>\n",
       "      <td>NaN</td>\n",
       "      <td>NaN</td>\n",
       "      <td>NaN</td>\n",
       "      <td>NaN</td>\n",
       "      <td>NaN</td>\n",
       "      <td>NaN</td>\n",
       "      <td>NaN</td>\n",
       "    </tr>\n",
       "    <tr>\n",
       "      <th>4</th>\n",
       "      <td>Pollos Maria</td>\n",
       "      <td>California</td>\n",
       "      <td>1/27/2016</td>\n",
       "      <td>Carlsbad</td>\n",
       "      <td>3055 Harding St</td>\n",
       "      <td>http://pollosmaria.com/</td>\n",
       "      <td>4.0</td>\n",
       "      <td>3.8</td>\n",
       "      <td>x</td>\n",
       "      <td>6.59</td>\n",
       "      <td>...</td>\n",
       "      <td>Hi</td>\n",
       "      <td>NaN</td>\n",
       "      <td>NaN</td>\n",
       "      <td>NaN</td>\n",
       "      <td>NaN</td>\n",
       "      <td>NaN</td>\n",
       "      <td>NaN</td>\n",
       "      <td>NaN</td>\n",
       "      <td>NaN</td>\n",
       "      <td>NaN</td>\n",
       "    </tr>\n",
       "    <tr>\n",
       "      <th>...</th>\n",
       "      <td>...</td>\n",
       "      <td>...</td>\n",
       "      <td>...</td>\n",
       "      <td>...</td>\n",
       "      <td>...</td>\n",
       "      <td>...</td>\n",
       "      <td>...</td>\n",
       "      <td>...</td>\n",
       "      <td>...</td>\n",
       "      <td>...</td>\n",
       "      <td>...</td>\n",
       "      <td>...</td>\n",
       "      <td>...</td>\n",
       "      <td>...</td>\n",
       "      <td>...</td>\n",
       "      <td>...</td>\n",
       "      <td>...</td>\n",
       "      <td>...</td>\n",
       "      <td>...</td>\n",
       "      <td>...</td>\n",
       "      <td>...</td>\n",
       "    </tr>\n",
       "    <tr>\n",
       "      <th>418</th>\n",
       "      <td>Valentine's Mexican Food</td>\n",
       "      <td>Al Pastor</td>\n",
       "      <td>8/27/2019</td>\n",
       "      <td>NaN</td>\n",
       "      <td>NaN</td>\n",
       "      <td>NaN</td>\n",
       "      <td>NaN</td>\n",
       "      <td>4.1</td>\n",
       "      <td>NaN</td>\n",
       "      <td>6.00</td>\n",
       "      <td>...</td>\n",
       "      <td>Hi</td>\n",
       "      <td>NaN</td>\n",
       "      <td>NaN</td>\n",
       "      <td>NaN</td>\n",
       "      <td>NaN</td>\n",
       "      <td>NaN</td>\n",
       "      <td>NaN</td>\n",
       "      <td>NaN</td>\n",
       "      <td>NaN</td>\n",
       "      <td>NaN</td>\n",
       "    </tr>\n",
       "    <tr>\n",
       "      <th>419</th>\n",
       "      <td>Valentine's Mexican Food</td>\n",
       "      <td>Chile Relleno</td>\n",
       "      <td>8/27/2019</td>\n",
       "      <td>NaN</td>\n",
       "      <td>NaN</td>\n",
       "      <td>NaN</td>\n",
       "      <td>NaN</td>\n",
       "      <td>4.1</td>\n",
       "      <td>NaN</td>\n",
       "      <td>6.00</td>\n",
       "      <td>...</td>\n",
       "      <td>Hi</td>\n",
       "      <td>NaN</td>\n",
       "      <td>NaN</td>\n",
       "      <td>NaN</td>\n",
       "      <td>NaN</td>\n",
       "      <td>NaN</td>\n",
       "      <td>NaN</td>\n",
       "      <td>NaN</td>\n",
       "      <td>NaN</td>\n",
       "      <td>NaN</td>\n",
       "    </tr>\n",
       "    <tr>\n",
       "      <th>420</th>\n",
       "      <td>Valentine's Mexican Food</td>\n",
       "      <td>California</td>\n",
       "      <td>8/27/2019</td>\n",
       "      <td>NaN</td>\n",
       "      <td>NaN</td>\n",
       "      <td>NaN</td>\n",
       "      <td>NaN</td>\n",
       "      <td>4.1</td>\n",
       "      <td>NaN</td>\n",
       "      <td>7.90</td>\n",
       "      <td>...</td>\n",
       "      <td>Hi</td>\n",
       "      <td>NaN</td>\n",
       "      <td>NaN</td>\n",
       "      <td>NaN</td>\n",
       "      <td>NaN</td>\n",
       "      <td>NaN</td>\n",
       "      <td>NaN</td>\n",
       "      <td>NaN</td>\n",
       "      <td>NaN</td>\n",
       "      <td>NaN</td>\n",
       "    </tr>\n",
       "    <tr>\n",
       "      <th>421</th>\n",
       "      <td>Valentine's Mexican Food</td>\n",
       "      <td>Shrimp</td>\n",
       "      <td>8/27/2019</td>\n",
       "      <td>NaN</td>\n",
       "      <td>NaN</td>\n",
       "      <td>NaN</td>\n",
       "      <td>NaN</td>\n",
       "      <td>4.1</td>\n",
       "      <td>NaN</td>\n",
       "      <td>7.90</td>\n",
       "      <td>...</td>\n",
       "      <td>Hi</td>\n",
       "      <td>NaN</td>\n",
       "      <td>NaN</td>\n",
       "      <td>NaN</td>\n",
       "      <td>NaN</td>\n",
       "      <td>NaN</td>\n",
       "      <td>NaN</td>\n",
       "      <td>NaN</td>\n",
       "      <td>NaN</td>\n",
       "      <td>NaN</td>\n",
       "    </tr>\n",
       "    <tr>\n",
       "      <th>422</th>\n",
       "      <td>Valentine's Mexican Food</td>\n",
       "      <td>Pollo Asado</td>\n",
       "      <td>8/27/2019</td>\n",
       "      <td>NaN</td>\n",
       "      <td>NaN</td>\n",
       "      <td>NaN</td>\n",
       "      <td>NaN</td>\n",
       "      <td>4.1</td>\n",
       "      <td>NaN</td>\n",
       "      <td>5.50</td>\n",
       "      <td>...</td>\n",
       "      <td>Hi</td>\n",
       "      <td>NaN</td>\n",
       "      <td>NaN</td>\n",
       "      <td>NaN</td>\n",
       "      <td>NaN</td>\n",
       "      <td>NaN</td>\n",
       "      <td>NaN</td>\n",
       "      <td>NaN</td>\n",
       "      <td>NaN</td>\n",
       "      <td>NaN</td>\n",
       "    </tr>\n",
       "  </tbody>\n",
       "</table>\n",
       "<p>423 rows × 66 columns</p>\n",
       "</div>"
      ],
      "text/plain": [
       "                     Location        Burrito       Date Neighborhood  \\\n",
       "0          Donato's taco shop    California   1/18/2016      Miramar   \n",
       "1        Oscar's Mexican food    California   1/24/2016   San Marcos   \n",
       "2        Oscar's Mexican food       Carnitas  1/24/2016          NaN   \n",
       "3        Oscar's Mexican food    Carne asada  1/24/2016          NaN   \n",
       "4                Pollos Maria     California  1/27/2016     Carlsbad   \n",
       "..                        ...            ...        ...          ...   \n",
       "418  Valentine's Mexican Food      Al Pastor  8/27/2019          NaN   \n",
       "419  Valentine's Mexican Food  Chile Relleno  8/27/2019          NaN   \n",
       "420  Valentine's Mexican Food     California  8/27/2019          NaN   \n",
       "421  Valentine's Mexican Food         Shrimp  8/27/2019          NaN   \n",
       "422  Valentine's Mexican Food    Pollo Asado  8/27/2019          NaN   \n",
       "\n",
       "                      Address  \\\n",
       "0             6780 Miramar Rd   \n",
       "1    225 S Rancho Santa Fe Rd   \n",
       "2                         NaN   \n",
       "3                         NaN   \n",
       "4             3055 Harding St   \n",
       "..                        ...   \n",
       "418                       NaN   \n",
       "419                       NaN   \n",
       "420                       NaN   \n",
       "421                       NaN   \n",
       "422                       NaN   \n",
       "\n",
       "                                                   URL  Yelp  Google Chips  \\\n",
       "0                          http://donatostacoshop.net/   3.5     4.2   NaN   \n",
       "1    http://www.yelp.com/biz/oscars-mexican-food-sa...   3.5     3.3   NaN   \n",
       "2                                                  NaN   NaN     4.1   NaN   \n",
       "3                                                  NaN   NaN     4.1   NaN   \n",
       "4                              http://pollosmaria.com/   4.0     3.8     x   \n",
       "..                                                 ...   ...     ...   ...   \n",
       "418                                                NaN   NaN     4.1   NaN   \n",
       "419                                                NaN   NaN     4.1   NaN   \n",
       "420                                                NaN   NaN     4.1   NaN   \n",
       "421                                                NaN   NaN     4.1   NaN   \n",
       "422                                                NaN   NaN     4.1   NaN   \n",
       "\n",
       "     Cost  ...  Nopales  Lobster  Queso  Egg  Mushroom  Bacon  Sushi  Avocado  \\\n",
       "0    6.49  ...       Hi      NaN    NaN  NaN       NaN    NaN    NaN      NaN   \n",
       "1    5.45  ...       Hi      NaN    NaN  NaN       NaN    NaN    NaN      NaN   \n",
       "2    4.85  ...       Hi      NaN    NaN  NaN       NaN    NaN    NaN      NaN   \n",
       "3    5.25  ...       Hi      NaN    NaN  NaN       NaN    NaN    NaN      NaN   \n",
       "4    6.59  ...       Hi      NaN    NaN  NaN       NaN    NaN    NaN      NaN   \n",
       "..    ...  ...      ...      ...    ...  ...       ...    ...    ...      ...   \n",
       "418  6.00  ...       Hi      NaN    NaN  NaN       NaN    NaN    NaN      NaN   \n",
       "419  6.00  ...       Hi      NaN    NaN  NaN       NaN    NaN    NaN      NaN   \n",
       "420  7.90  ...       Hi      NaN    NaN  NaN       NaN    NaN    NaN      NaN   \n",
       "421  7.90  ...       Hi      NaN    NaN  NaN       NaN    NaN    NaN      NaN   \n",
       "422  5.50  ...       Hi      NaN    NaN  NaN       NaN    NaN    NaN      NaN   \n",
       "\n",
       "     Corn  Zucchini  \n",
       "0     NaN       NaN  \n",
       "1     NaN       NaN  \n",
       "2     NaN       NaN  \n",
       "3     NaN       NaN  \n",
       "4     NaN       NaN  \n",
       "..    ...       ...  \n",
       "418   NaN       NaN  \n",
       "419   NaN       NaN  \n",
       "420   NaN       NaN  \n",
       "421   NaN       NaN  \n",
       "422   NaN       NaN  \n",
       "\n",
       "[423 rows x 66 columns]"
      ]
     },
     "execution_count": 155,
     "metadata": {},
     "output_type": "execute_result"
    }
   ],
   "source": [
    "df[\"Nopales\"].fillna(\"Hi\", inplace = True)\n",
    "df"
   ]
  },
  {
   "cell_type": "markdown",
   "id": "f3994b4f",
   "metadata": {},
   "source": [
    "                                      *********************\n",
    "-  a column and use backward filling"
   ]
  },
  {
   "cell_type": "code",
   "execution_count": 162,
   "id": "e551a83c",
   "metadata": {},
   "outputs": [
    {
     "data": {
      "text/plain": [
       "0      NaN\n",
       "1      NaN\n",
       "2      NaN\n",
       "3      NaN\n",
       "4      NaN\n",
       "      ... \n",
       "418    NaN\n",
       "419    NaN\n",
       "420    NaN\n",
       "421    NaN\n",
       "422    NaN\n",
       "Name: Egg, Length: 423, dtype: object"
      ]
     },
     "execution_count": 162,
     "metadata": {},
     "output_type": "execute_result"
    }
   ],
   "source": [
    "# Look at the target column\n",
    "df[\"Egg\"]"
   ]
  },
  {
   "cell_type": "code",
   "execution_count": 163,
   "id": "ca951bb8",
   "metadata": {},
   "outputs": [
    {
     "data": {
      "text/plain": [
       "0      NaN\n",
       "1      NaN\n",
       "2      NaN\n",
       "3      NaN\n",
       "4      NaN\n",
       "      ... \n",
       "418      x\n",
       "419      x\n",
       "420      x\n",
       "421      x\n",
       "422      x\n",
       "Name: Egg, Length: 423, dtype: object"
      ]
     },
     "execution_count": 163,
     "metadata": {},
     "output_type": "execute_result"
    }
   ],
   "source": [
    "# Forward fill using fillna() method=\"ffill\"\n",
    "# Notice how the first value is not filled since there is no previous value to replace it with\n",
    "df[\"Egg\"].fillna(method=\"ffill\")"
   ]
  },
  {
   "cell_type": "code",
   "execution_count": 164,
   "id": "3ec88697",
   "metadata": {},
   "outputs": [
    {
     "data": {
      "text/plain": [
       "0      NaN\n",
       "1      NaN\n",
       "2      NaN\n",
       "3      NaN\n",
       "4      NaN\n",
       "      ... \n",
       "418    NaN\n",
       "419    NaN\n",
       "420    NaN\n",
       "421    NaN\n",
       "422    NaN\n",
       "Name: Egg, Length: 423, dtype: object"
      ]
     },
     "execution_count": 164,
     "metadata": {},
     "output_type": "execute_result"
    }
   ],
   "source": [
    "# Look at the target column\n",
    "df[\"Egg\"]"
   ]
  },
  {
   "cell_type": "code",
   "execution_count": 165,
   "id": "63a7658b",
   "metadata": {},
   "outputs": [
    {
     "data": {
      "text/plain": [
       "0        x\n",
       "1        x\n",
       "2        x\n",
       "3        x\n",
       "4        x\n",
       "      ... \n",
       "418    NaN\n",
       "419    NaN\n",
       "420    NaN\n",
       "421    NaN\n",
       "422    NaN\n",
       "Name: Egg, Length: 423, dtype: object"
      ]
     },
     "execution_count": 165,
     "metadata": {},
     "output_type": "execute_result"
    }
   ],
   "source": [
    "# Backward fill using fillna() method=\"bfill\"\n",
    "df[\"Egg\"].fillna(method=\"bfill\")"
   ]
  },
  {
   "cell_type": "code",
   "execution_count": null,
   "id": "90546632",
   "metadata": {},
   "outputs": [],
   "source": []
  },
  {
   "cell_type": "code",
   "execution_count": null,
   "id": "df53a3b0",
   "metadata": {},
   "outputs": [],
   "source": []
  }
 ],
 "metadata": {
  "kernelspec": {
   "display_name": "Python 3",
   "language": "python",
   "name": "python3"
  },
  "language_info": {
   "codemirror_mode": {
    "name": "ipython",
    "version": 3
   },
   "file_extension": ".py",
   "mimetype": "text/x-python",
   "name": "python",
   "nbconvert_exporter": "python",
   "pygments_lexer": "ipython3",
   "version": "3.8.8"
  }
 },
 "nbformat": 4,
 "nbformat_minor": 5
}
